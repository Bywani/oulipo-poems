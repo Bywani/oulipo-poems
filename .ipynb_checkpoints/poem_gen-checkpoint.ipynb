{
 "cells": [
  {
   "cell_type": "markdown",
   "metadata": {},
   "source": [
    "oulipian poetry is cool. i'm gonna try and make a program that does n+7 poems "
   ]
  },
  {
   "cell_type": "code",
   "execution_count": 2,
   "metadata": {},
   "outputs": [],
   "source": [
    "import pandas;\n",
    "import re;"
   ]
  },
  {
   "cell_type": "code",
   "execution_count": 3,
   "metadata": {},
   "outputs": [
    {
     "name": "stdout",
     "output_type": "stream",
     "text": [
      "\r",
      "\r\n",
      "Dog bone, stapler,\r",
      "\r\n",
      "cribbage board, garlic press\r",
      "\r\n",
      "     because this window is loose—lacks\r",
      "\r\n",
      "suction, lacks grip.\r",
      "\r\n",
      "Bungee cord, bootstrap,\r",
      "\r\n",
      "dog leash, leather belt\r",
      "\r\n",
      "     because this window had sash cords.\r",
      "\r\n",
      "They frayed. They broke.\r",
      "\r\n",
      "Feather duster, thatch of straw, empty\r",
      "\r\n",
      "bottle of Elmer's glue\r",
      "\r\n",
      "     because this window is loud—its hinges clack\r",
      "\r\n",
      "open, clack shut.\r",
      "\r\n",
      "Stuffed bear, baby blanket,\r",
      "\r\n",
      "single crib newel\r",
      "\r\n",
      "     because this window is split. It's dividing\r",
      "\r\n",
      "in two.\r",
      "\r\n",
      "Velvet moss, sagebrush,\r",
      "\r\n",
      "willow branch, robin's wing\r",
      "\r\n",
      "     because this window, it's pane-less. It's only\r",
      "\r\n",
      "a frame of air.\r",
      "\r\n",
      "\n",
      " Dogate Boneblack star-blind, cribbage Boasted Garner Pressiroster because this Windowless is loose—lacks suction lacks griper. Bungee Cordal bootstrap, Dogate Leasow Leatheret Belted because this Windowless had Sashoon cords. They frayed. They broke. Feathered Dustpan Thaumatrope of Strawed Empugn Bottle-nose of Elmer's Gluish because this Windowless is loud—its hinges Claik Openbill Claik shuttlecock. Stuffed Beard Baby farming blanket, Single-hearted Criber Newfanglist because this Windowless is splotchy. It's dividing Inabusively twofold. Venae Mossbanker sagenitic, Willow-weed Branchiae robin's Winger because this Windowless it's pane-less. It's only a Frampoid of air cell. \n"
     ]
    }
   ],
   "source": [
    "\n",
    "def poem_magic(poem, dictionary: pandas.DataFrame):\n",
    "    words = re.split('\\s+| +|; |, |\\n|\\r', poem);\n",
    "    new_poem = [];\n",
    "\n",
    "    for word in words:\n",
    "        clean_word = word.replace(\".\", \"\").replace(\",\", \"\");\n",
    "        dic_words = dictionary.loc[((dictionary['Word'] == clean_word.capitalize())) & (dictionary['POS'] == \"\\\"n.\\\"\")]\n",
    "        if not dic_words.empty:\n",
    "            indexs = dic_words.index.values\n",
    "            new_word = next_words_after(indexs[-1], 7, dictionary)\n",
    "            if \",\" in word:\n",
    "                new_word = str(new_word).lower() + \",\"\n",
    "            elif \".\" in word:\n",
    "                new_word = str(new_word).lower() + \".\"\n",
    "            \n",
    "            if \".\" in new_poem[-1]:\n",
    "                new_word = str(new_word).capitalize()\n",
    "                \n",
    "            new_poem.append(new_word)\n",
    "        else:\n",
    "            new_poem.append(word)\n",
    "    return \" \".join(new_poem)\n",
    "\n",
    "def next_words_after(index, number_of_words, dictionary: pandas.DataFrame):\n",
    "    word_count = 1;\n",
    "    word = dictionary.loc[index + 1]['Word'];\n",
    "\n",
    "    for idx in range(index, dictionary.size):\n",
    "        if word != dictionary.loc[idx]['Word']:\n",
    "            word = dictionary.loc[idx]['Word'];\n",
    "            word_count += 1\n",
    "\n",
    "        if word_count >= number_of_words:\n",
    "            return dictionary.loc[idx]['Word']\n",
    "\n",
    "def main():\n",
    "    poems = pandas.read_csv(\"./PoetryFoundationData.csv\")\n",
    "    dictionary = pandas.read_csv(\"./OPTED-Dictionary.csv\")\n",
    "    new_poem = poem_magic(poems.loc[0]['Poem'], dictionary);\n",
    "    print(poems.loc[0]['Poem'])\n",
    "    print(new_poem)\n",
    "\n",
    "\n",
    "if __name__ == '__main__':\n",
    "    main()"
   ]
  },
  {
   "cell_type": "code",
   "execution_count": null,
   "metadata": {},
   "outputs": [],
   "source": []
  }
 ],
 "metadata": {
  "kernelspec": {
   "display_name": "Python (learn-env)",
   "language": "python",
   "name": "learn-env"
  },
  "language_info": {
   "codemirror_mode": {
    "name": "ipython",
    "version": 3
   },
   "file_extension": ".py",
   "mimetype": "text/x-python",
   "name": "python",
   "nbconvert_exporter": "python",
   "pygments_lexer": "ipython3",
   "version": "3.8.5"
  }
 },
 "nbformat": 4,
 "nbformat_minor": 4
}
