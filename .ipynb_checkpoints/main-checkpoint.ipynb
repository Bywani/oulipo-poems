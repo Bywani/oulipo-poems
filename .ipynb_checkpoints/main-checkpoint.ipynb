{
 "cells": [
  {
   "cell_type": "markdown",
   "metadata": {},
   "source": [
    "data is from https://www.kaggle.com/datasets/tgdivy/poetry-foundation-poems\n",
    "\n",
    "and dictionary is from kaggle too: https://www.kaggle.com/datasets/dfydata/the-online-plain-text-english-dictionary-opted"
   ]
  },
  {
   "cell_type": "code",
   "execution_count": 3,
   "metadata": {},
   "outputs": [],
   "source": [
    "import numpy as np \n",
    "import pandas as pd "
   ]
  },
  {
   "cell_type": "code",
   "execution_count": 55,
   "metadata": {},
   "outputs": [],
   "source": [
    "df = pd.read_csv('OPTED-Dictionary.csv')"
   ]
  },
  {
   "cell_type": "code",
   "execution_count": 5,
   "metadata": {},
   "outputs": [
    {
     "data": {
      "text/html": [
       "<div>\n",
       "<style scoped>\n",
       "    .dataframe tbody tr th:only-of-type {\n",
       "        vertical-align: middle;\n",
       "    }\n",
       "\n",
       "    .dataframe tbody tr th {\n",
       "        vertical-align: top;\n",
       "    }\n",
       "\n",
       "    .dataframe thead th {\n",
       "        text-align: right;\n",
       "    }\n",
       "</style>\n",
       "<table border=\"1\" class=\"dataframe\">\n",
       "  <thead>\n",
       "    <tr style=\"text-align: right;\">\n",
       "      <th></th>\n",
       "      <th>Word</th>\n",
       "      <th>Count</th>\n",
       "      <th>POS</th>\n",
       "      <th>Definition</th>\n",
       "    </tr>\n",
       "  </thead>\n",
       "  <tbody>\n",
       "    <tr>\n",
       "      <th>0</th>\n",
       "      <td>A</td>\n",
       "      <td>1</td>\n",
       "      <td>\"\"</td>\n",
       "      <td>\"The first letter of the English and of many o...</td>\n",
       "    </tr>\n",
       "    <tr>\n",
       "      <th>1</th>\n",
       "      <td>A</td>\n",
       "      <td>1</td>\n",
       "      <td>\"\"</td>\n",
       "      <td>\"The name of the sixth tone in the model major...</td>\n",
       "    </tr>\n",
       "    <tr>\n",
       "      <th>2</th>\n",
       "      <td>A</td>\n",
       "      <td>1</td>\n",
       "      <td>\"\"</td>\n",
       "      <td>\"An adjective  commonly called the indefinite ...</td>\n",
       "    </tr>\n",
       "    <tr>\n",
       "      <th>3</th>\n",
       "      <td>A</td>\n",
       "      <td>1</td>\n",
       "      <td>\"\"</td>\n",
       "      <td>\"In each; to or for each; as  \"\"\"\"twenty leagu...</td>\n",
       "    </tr>\n",
       "    <tr>\n",
       "      <th>4</th>\n",
       "      <td>A</td>\n",
       "      <td>1</td>\n",
       "      <td>\"prep.\"</td>\n",
       "      <td>\"In; on; at; by.\"</td>\n",
       "    </tr>\n",
       "  </tbody>\n",
       "</table>\n",
       "</div>"
      ],
      "text/plain": [
       "  Word Count      POS                                         Definition\n",
       "0    A     1       \"\"  \"The first letter of the English and of many o...\n",
       "1    A     1       \"\"  \"The name of the sixth tone in the model major...\n",
       "2    A     1       \"\"  \"An adjective  commonly called the indefinite ...\n",
       "3    A     1       \"\"  \"In each; to or for each; as  \"\"\"\"twenty leagu...\n",
       "4    A     1  \"prep.\"                                  \"In; on; at; by.\""
      ]
     },
     "execution_count": 5,
     "metadata": {},
     "output_type": "execute_result"
    }
   ],
   "source": [
    "dict_data.head()"
   ]
  },
  {
   "cell_type": "code",
   "execution_count": 6,
   "metadata": {},
   "outputs": [
    {
     "data": {
      "text/plain": [
       "Word          1\n",
       "Count         0\n",
       "POS           0\n",
       "Definition    0\n",
       "dtype: int64"
      ]
     },
     "execution_count": 6,
     "metadata": {},
     "output_type": "execute_result"
    }
   ],
   "source": [
    "dict_data.isna().sum()"
   ]
  },
  {
   "cell_type": "code",
   "execution_count": 7,
   "metadata": {},
   "outputs": [],
   "source": [
    "poems_data = pd.read_csv('PoetryFoundationData.csv')"
   ]
  },
  {
   "cell_type": "code",
   "execution_count": 8,
   "metadata": {},
   "outputs": [
    {
     "data": {
      "text/html": [
       "<div>\n",
       "<style scoped>\n",
       "    .dataframe tbody tr th:only-of-type {\n",
       "        vertical-align: middle;\n",
       "    }\n",
       "\n",
       "    .dataframe tbody tr th {\n",
       "        vertical-align: top;\n",
       "    }\n",
       "\n",
       "    .dataframe thead th {\n",
       "        text-align: right;\n",
       "    }\n",
       "</style>\n",
       "<table border=\"1\" class=\"dataframe\">\n",
       "  <thead>\n",
       "    <tr style=\"text-align: right;\">\n",
       "      <th></th>\n",
       "      <th>Unnamed: 0</th>\n",
       "      <th>Title</th>\n",
       "      <th>Poem</th>\n",
       "      <th>Poet</th>\n",
       "      <th>Tags</th>\n",
       "    </tr>\n",
       "  </thead>\n",
       "  <tbody>\n",
       "    <tr>\n",
       "      <th>0</th>\n",
       "      <td>0</td>\n",
       "      <td>\\r\\r\\n                    Objects Used to Prop...</td>\n",
       "      <td>\\r\\r\\nDog bone, stapler,\\r\\r\\ncribbage board, ...</td>\n",
       "      <td>Michelle Menting</td>\n",
       "      <td>NaN</td>\n",
       "    </tr>\n",
       "    <tr>\n",
       "      <th>1</th>\n",
       "      <td>1</td>\n",
       "      <td>\\r\\r\\n                    The New Church\\r\\r\\n...</td>\n",
       "      <td>\\r\\r\\nThe old cupola glinted above the clouds,...</td>\n",
       "      <td>Lucia Cherciu</td>\n",
       "      <td>NaN</td>\n",
       "    </tr>\n",
       "    <tr>\n",
       "      <th>2</th>\n",
       "      <td>2</td>\n",
       "      <td>\\r\\r\\n                    Look for Me\\r\\r\\n   ...</td>\n",
       "      <td>\\r\\r\\nLook for me under the hood\\r\\r\\nof that ...</td>\n",
       "      <td>Ted Kooser</td>\n",
       "      <td>NaN</td>\n",
       "    </tr>\n",
       "    <tr>\n",
       "      <th>3</th>\n",
       "      <td>3</td>\n",
       "      <td>\\r\\r\\n                    Wild Life\\r\\r\\n     ...</td>\n",
       "      <td>\\r\\r\\nBehind the silo, the Mother Rabbit\\r\\r\\n...</td>\n",
       "      <td>Grace Cavalieri</td>\n",
       "      <td>NaN</td>\n",
       "    </tr>\n",
       "    <tr>\n",
       "      <th>4</th>\n",
       "      <td>4</td>\n",
       "      <td>\\r\\r\\n                    Umbrella\\r\\r\\n      ...</td>\n",
       "      <td>\\r\\r\\nWhen I push your button\\r\\r\\nyou fly off...</td>\n",
       "      <td>Connie Wanek</td>\n",
       "      <td>NaN</td>\n",
       "    </tr>\n",
       "  </tbody>\n",
       "</table>\n",
       "</div>"
      ],
      "text/plain": [
       "   Unnamed: 0                                              Title  \\\n",
       "0           0  \\r\\r\\n                    Objects Used to Prop...   \n",
       "1           1  \\r\\r\\n                    The New Church\\r\\r\\n...   \n",
       "2           2  \\r\\r\\n                    Look for Me\\r\\r\\n   ...   \n",
       "3           3  \\r\\r\\n                    Wild Life\\r\\r\\n     ...   \n",
       "4           4  \\r\\r\\n                    Umbrella\\r\\r\\n      ...   \n",
       "\n",
       "                                                Poem              Poet Tags  \n",
       "0  \\r\\r\\nDog bone, stapler,\\r\\r\\ncribbage board, ...  Michelle Menting  NaN  \n",
       "1  \\r\\r\\nThe old cupola glinted above the clouds,...     Lucia Cherciu  NaN  \n",
       "2  \\r\\r\\nLook for me under the hood\\r\\r\\nof that ...        Ted Kooser  NaN  \n",
       "3  \\r\\r\\nBehind the silo, the Mother Rabbit\\r\\r\\n...   Grace Cavalieri  NaN  \n",
       "4  \\r\\r\\nWhen I push your button\\r\\r\\nyou fly off...      Connie Wanek  NaN  "
      ]
     },
     "execution_count": 8,
     "metadata": {},
     "output_type": "execute_result"
    }
   ],
   "source": [
    "poems_data.head()"
   ]
  },
  {
   "cell_type": "code",
   "execution_count": 9,
   "metadata": {},
   "outputs": [
    {
     "data": {
      "text/plain": [
       "Unnamed: 0      0\n",
       "Title           0\n",
       "Poem            0\n",
       "Poet            0\n",
       "Tags          955\n",
       "dtype: int64"
      ]
     },
     "execution_count": 9,
     "metadata": {},
     "output_type": "execute_result"
    }
   ],
   "source": [
    "poems_data.isna().sum()"
   ]
  },
  {
   "cell_type": "code",
   "execution_count": 17,
   "metadata": {},
   "outputs": [
    {
     "data": {
      "text/plain": [
       "Unnamed: 0                                                    1\n",
       "Title         \\r\\r\\n                    The New Church\\r\\r\\n...\n",
       "Poem          \\r\\r\\nThe old cupola glinted above the clouds,...\n",
       "Poet                                              Lucia Cherciu\n",
       "Tags                                                        NaN\n",
       "Name: 1, dtype: object"
      ]
     },
     "execution_count": 17,
     "metadata": {},
     "output_type": "execute_result"
    }
   ],
   "source": [
    "for poem in poems_data: \n",
    "    if word == \"noun\" in dict_data \n",
    "    then replace word with 7th noun in dict_data \n",
    "    print poem "
   ]
  },
  {
   "cell_type": "code",
   "execution_count": null,
   "metadata": {},
   "outputs": [],
   "source": [
    "def search_str(file_path, word):\n",
    "    with open(file_path, 'r') as file:\n",
    "        # read all content of a file\n",
    "        content = file.read()\n",
    "        # check if string present in a file\n",
    "        if word in content:\n",
    "            print('string exist in a file')\n",
    "        else:\n",
    "            print('string does not exist in a file')"
   ]
  },
  {
   "cell_type": "code",
   "execution_count": null,
   "metadata": {},
   "outputs": [],
   "source": [
    "def word_search(poems_data, dict_data[POS]):\n",
    "    with open('OPTED-Dictionary.csv', 'r') as file:\n",
    "        content = dict_data.read()\n",
    "        if POS in content:\n",
    "            print(\"success\")\n",
    "            "
   ]
  },
  {
   "cell_type": "code",
   "execution_count": null,
   "metadata": {},
   "outputs": [],
   "source": [
    "#step 1: is have the computer ID nouns within the poems entries --> first i am going to tokenize a poem "
   ]
  },
  {
   "cell_type": "code",
   "execution_count": 19,
   "metadata": {},
   "outputs": [
    {
     "data": {
      "text/plain": [
       "Unnamed: 0                                                    0\n",
       "Title         \\r\\r\\n                    Objects Used to Prop...\n",
       "Poem          \\r\\r\\nDog bone, stapler,\\r\\r\\ncribbage board, ...\n",
       "Poet                                           Michelle Menting\n",
       "Tags                                                        NaN\n",
       "Name: 0, dtype: object"
      ]
     },
     "execution_count": 19,
     "metadata": {},
     "output_type": "execute_result"
    }
   ],
   "source": [
    "# tokeenize a poem \n",
    "poems_data.loc[0]"
   ]
  },
  {
   "cell_type": "code",
   "execution_count": 21,
   "metadata": {},
   "outputs": [
    {
     "data": {
      "text/plain": [
       "['Dog',\n",
       " 'bone,',\n",
       " 'stapler,',\n",
       " 'cribbage',\n",
       " 'board,',\n",
       " 'garlic',\n",
       " 'press',\n",
       " 'because',\n",
       " 'this',\n",
       " 'window',\n",
       " 'is',\n",
       " 'loose—lacks',\n",
       " 'suction,',\n",
       " 'lacks',\n",
       " 'grip.',\n",
       " 'Bungee',\n",
       " 'cord,',\n",
       " 'bootstrap,',\n",
       " 'dog',\n",
       " 'leash,',\n",
       " 'leather',\n",
       " 'belt',\n",
       " 'because',\n",
       " 'this',\n",
       " 'window',\n",
       " 'had',\n",
       " 'sash',\n",
       " 'cords.',\n",
       " 'They',\n",
       " 'frayed.',\n",
       " 'They',\n",
       " 'broke.',\n",
       " 'Feather',\n",
       " 'duster,',\n",
       " 'thatch',\n",
       " 'of',\n",
       " 'straw,',\n",
       " 'empty',\n",
       " 'bottle',\n",
       " 'of',\n",
       " \"Elmer's\",\n",
       " 'glue',\n",
       " 'because',\n",
       " 'this',\n",
       " 'window',\n",
       " 'is',\n",
       " 'loud—its',\n",
       " 'hinges',\n",
       " 'clack',\n",
       " 'open,',\n",
       " 'clack',\n",
       " 'shut.',\n",
       " 'Stuffed',\n",
       " 'bear,',\n",
       " 'baby',\n",
       " 'blanket,',\n",
       " 'single',\n",
       " 'crib',\n",
       " 'newel',\n",
       " 'because',\n",
       " 'this',\n",
       " 'window',\n",
       " 'is',\n",
       " 'split.',\n",
       " \"It's\",\n",
       " 'dividing',\n",
       " 'in',\n",
       " 'two.',\n",
       " 'Velvet',\n",
       " 'moss,',\n",
       " 'sagebrush,',\n",
       " 'willow',\n",
       " 'branch,',\n",
       " \"robin's\",\n",
       " 'wing',\n",
       " 'because',\n",
       " 'this',\n",
       " 'window,',\n",
       " \"it's\",\n",
       " 'pane-less.',\n",
       " \"It's\",\n",
       " 'only',\n",
       " 'a',\n",
       " 'frame',\n",
       " 'of',\n",
       " 'air.']"
      ]
     },
     "execution_count": 21,
     "metadata": {},
     "output_type": "execute_result"
    }
   ],
   "source": [
    "#split the first poem into words \n",
    "poems_data.loc[0]['Poem'].split() "
   ]
  },
  {
   "cell_type": "code",
   "execution_count": 10,
   "metadata": {},
   "outputs": [
    {
     "data": {
      "text/plain": [
       "\"\\r\\r\\nDog bone, stapler,\\r\\r\\ncribbage board, garlic press\\r\\r\\n     because this window is loose—lacks\\r\\r\\nsuction, lacks grip.\\r\\r\\nBungee cord, bootstrap,\\r\\r\\ndog leash, leather belt\\r\\r\\n     because this window had sash cords.\\r\\r\\nThey frayed. They broke.\\r\\r\\nFeather duster, thatch of straw, empty\\r\\r\\nbottle of Elmer's glue\\r\\r\\n     because this window is loud—its hinges clack\\r\\r\\nopen, clack shut.\\r\\r\\nStuffed bear, baby blanket,\\r\\r\\nsingle crib newel\\r\\r\\n     because this window is split. It's dividing\\r\\r\\nin two.\\r\\r\\nVelvet moss, sagebrush,\\r\\r\\nwillow branch, robin's wing\\r\\r\\n     because this window, it's pane-less. It's only\\r\\r\\na frame of air.\\r\\r\\n\""
      ]
     },
     "execution_count": 10,
     "metadata": {},
     "output_type": "execute_result"
    }
   ],
   "source": [
    "sample_poem = poems_data.loc[0]['Poem']\n",
    "sample_poem"
   ]
  },
  {
   "cell_type": "code",
   "execution_count": 13,
   "metadata": {},
   "outputs": [],
   "source": [
    "import nltk\n",
    "tokens = word_tokenize(sample_poem)"
   ]
  },
  {
   "cell_type": "code",
   "execution_count": 23,
   "metadata": {},
   "outputs": [
    {
     "name": "stdout",
     "output_type": "stream",
     "text": [
      "parts of speech in sample poem:  [('Dog', 'NNP'), ('bone', 'NN'), (',', ','), ('stapler', 'NN'), (',', ','), ('cribbage', 'NN'), ('board', 'NN'), (',', ','), ('garlic', 'JJ'), ('press', 'NN'), ('because', 'IN'), ('this', 'DT'), ('window', 'NN'), ('is', 'VBZ'), ('loose—lacks', 'JJ'), ('suction', 'NN'), (',', ','), ('lacks', 'VBZ'), ('grip', 'NN'), ('.', '.'), ('Bungee', 'NNP'), ('cord', 'NN'), (',', ','), ('bootstrap', 'NN'), (',', ','), ('dog', 'NN'), ('leash', 'NN'), (',', ','), ('leather', 'RB'), ('belt', 'NN'), ('because', 'IN'), ('this', 'DT'), ('window', 'NN'), ('had', 'VBD'), ('sash', 'VBN'), ('cords', 'NNS'), ('.', '.'), ('They', 'PRP'), ('frayed', 'VBD'), ('.', '.'), ('They', 'PRP'), ('broke', 'VBD'), ('.', '.'), ('Feather', 'NNP'), ('duster', 'NN'), (',', ','), ('thatch', 'NN'), ('of', 'IN'), ('straw', 'NN'), (',', ','), ('empty', 'JJ'), ('bottle', 'NN'), ('of', 'IN'), ('Elmer', 'NNP'), (\"'s\", 'POS'), ('glue', 'NN'), ('because', 'IN'), ('this', 'DT'), ('window', 'NN'), ('is', 'VBZ'), ('loud—its', 'JJ'), ('hinges', 'NNS'), ('clack', 'VBP'), ('open', 'JJ'), (',', ','), ('clack', 'JJ'), ('shut', 'NN'), ('.', '.'), ('Stuffed', 'NNP'), ('bear', 'NN'), (',', ','), ('baby', 'NN'), ('blanket', 'NN'), (',', ','), ('single', 'JJ'), ('crib', 'NN'), ('newel', 'NN'), ('because', 'IN'), ('this', 'DT'), ('window', 'NN'), ('is', 'VBZ'), ('split', 'VBN'), ('.', '.'), ('It', 'PRP'), (\"'s\", 'VBZ'), ('dividing', 'VBG'), ('in', 'IN'), ('two', 'CD'), ('.', '.'), ('Velvet', 'NNP'), ('moss', 'NN'), (',', ','), ('sagebrush', 'NN'), (',', ','), ('willow', 'JJ'), ('branch', 'NN'), (',', ','), ('robin', 'NN'), (\"'s\", 'POS'), ('wing', 'NN'), ('because', 'IN'), ('this', 'DT'), ('window', 'NN'), (',', ','), ('it', 'PRP'), (\"'s\", 'VBZ'), ('pane-less', 'NN'), ('.', '.'), ('It', 'PRP'), (\"'s\", 'VBZ'), ('only', 'RB'), ('a', 'DT'), ('frame', 'NN'), ('of', 'IN'), ('air', 'NN'), ('.', '.')]\n"
     ]
    }
   ],
   "source": [
    "sample_pos_tokens = nltk.pos_tag(tokens)\n",
    "\n",
    "\n",
    "print(\"parts of speech in sample poem: \", nltk.pos_tag(tokens))"
   ]
  },
  {
   "cell_type": "code",
   "execution_count": 25,
   "metadata": {},
   "outputs": [
    {
     "data": {
      "text/plain": [
       "list"
      ]
     },
     "execution_count": 25,
     "metadata": {},
     "output_type": "execute_result"
    }
   ],
   "source": [
    "sample_pos_tokens"
   ]
  },
  {
   "cell_type": "code",
   "execution_count": null,
   "metadata": {},
   "outputs": [],
   "source": [
    "#psuedo code \n",
    "\n",
    "if token == \"NN\", \"NNS\" then replacee token with data_dict 7th word after it "
   ]
  },
  {
   "cell_type": "code",
   "execution_count": 46,
   "metadata": {},
   "outputs": [],
   "source": [
    "noun_list = []\n",
    "\n",
    "def noun_gen(sample_poem):\n",
    "    for pair in sample_poem:\n",
    "        word = pair[0]\n",
    "        pos = pair[1]\n",
    "        if pos == \"NN\" or pos == \"NNS\":\n",
    "            noun_list.append(word)\n",
    "            #print (\"Should be noun word \" + word)"
   ]
  },
  {
   "cell_type": "code",
   "execution_count": 48,
   "metadata": {},
   "outputs": [],
   "source": [
    "noun_gen(sample_pos_tokens)"
   ]
  },
  {
   "cell_type": "code",
   "execution_count": 54,
   "metadata": {},
   "outputs": [
    {
     "data": {
      "text/plain": [
       "['bone',\n",
       " 'stapler',\n",
       " 'cribbage',\n",
       " 'board',\n",
       " 'press',\n",
       " 'window',\n",
       " 'suction',\n",
       " 'grip',\n",
       " 'cord',\n",
       " 'bootstrap',\n",
       " 'dog',\n",
       " 'leash',\n",
       " 'belt',\n",
       " 'window',\n",
       " 'cords',\n",
       " 'duster',\n",
       " 'thatch',\n",
       " 'straw',\n",
       " 'bottle',\n",
       " 'glue',\n",
       " 'window',\n",
       " 'hinges',\n",
       " 'shut',\n",
       " 'bear',\n",
       " 'baby',\n",
       " 'blanket',\n",
       " 'crib',\n",
       " 'newel',\n",
       " 'window',\n",
       " 'moss',\n",
       " 'sagebrush',\n",
       " 'branch',\n",
       " 'robin',\n",
       " 'wing',\n",
       " 'window',\n",
       " 'pane-less',\n",
       " 'frame',\n",
       " 'air']"
      ]
     },
     "execution_count": 54,
     "metadata": {},
     "output_type": "execute_result"
    }
   ],
   "source": [
    "noun_list"
   ]
  },
  {
   "cell_type": "code",
   "execution_count": 52,
   "metadata": {},
   "outputs": [],
   "source": [
    "# now i have all my nouns i can replace each word with the 7th wordthat comes after it \n"
   ]
  },
  {
   "cell_type": "code",
   "execution_count": 53,
   "metadata": {},
   "outputs": [
    {
     "data": {
      "text/plain": [
       "<function list.copy()>"
      ]
     },
     "execution_count": 53,
     "metadata": {},
     "output_type": "execute_result"
    }
   ],
   "source": [
    "for index, elem in enumerate(noun_list):\n",
    "    "
   ]
  },
  {
   "cell_type": "code",
   "execution_count": null,
   "metadata": {},
   "outputs": [],
   "source": [
    "#so i need to tell it to find the index in the dictionary \n",
    "\n",
    "def seven_gen(noun_list):\n",
    "    for dict_data.loc[word] + 7 \n",
    "\n",
    "dict_data.loc[]"
   ]
  },
  {
   "cell_type": "code",
   "execution_count": 82,
   "metadata": {},
   "outputs": [
    {
     "ename": "TypeError",
     "evalue": "sequence item 0: expected str instance, list found",
     "output_type": "error",
     "traceback": [
      "\u001b[0;31m---------------------------------------------------------------------------\u001b[0m",
      "\u001b[0;31mTypeError\u001b[0m                                 Traceback (most recent call last)",
      "\u001b[0;32m<ipython-input-82-704c83d9b0f7>\u001b[0m in \u001b[0;36m<module>\u001b[0;34m\u001b[0m\n\u001b[1;32m     19\u001b[0m                 \u001b[0mwords\u001b[0m\u001b[0;34m[\u001b[0m\u001b[0mj\u001b[0m\u001b[0;34m]\u001b[0m \u001b[0;34m=\u001b[0m \u001b[0mwords\u001b[0m\u001b[0;34m[\u001b[0m\u001b[0mj\u001b[0m \u001b[0;34m+\u001b[0m \u001b[0;36m7\u001b[0m\u001b[0;34m]\u001b[0m\u001b[0;34m\u001b[0m\u001b[0;34m\u001b[0m\u001b[0m\n\u001b[1;32m     20\u001b[0m     \u001b[0;31m# Join the list of words back into a string\u001b[0m\u001b[0;34m\u001b[0m\u001b[0;34m\u001b[0m\u001b[0;34m\u001b[0m\u001b[0m\n\u001b[0;32m---> 21\u001b[0;31m     \u001b[0mdf\u001b[0m\u001b[0;34m.\u001b[0m\u001b[0mat\u001b[0m\u001b[0;34m[\u001b[0m\u001b[0mi\u001b[0m\u001b[0;34m,\u001b[0m\u001b[0;34m'Word'\u001b[0m\u001b[0;34m]\u001b[0m \u001b[0;34m=\u001b[0m \u001b[0;34m\" \"\u001b[0m\u001b[0;34m.\u001b[0m\u001b[0mjoin\u001b[0m\u001b[0;34m(\u001b[0m\u001b[0mwords\u001b[0m\u001b[0;34m)\u001b[0m\u001b[0;34m\u001b[0m\u001b[0;34m\u001b[0m\u001b[0m\n\u001b[0m\u001b[1;32m     22\u001b[0m \u001b[0;34m\u001b[0m\u001b[0m\n\u001b[1;32m     23\u001b[0m \u001b[0mprint\u001b[0m\u001b[0;34m(\u001b[0m\u001b[0mdf\u001b[0m\u001b[0;34m)\u001b[0m\u001b[0;34m\u001b[0m\u001b[0;34m\u001b[0m\u001b[0m\n",
      "\u001b[0;31mTypeError\u001b[0m: sequence item 0: expected str instance, list found"
     ]
    }
   ],
   "source": [
    "#chatgbt help \n",
    "# Create a dataframe\n",
    "\n",
    "\n",
    "# Create a list of words to replace\n",
    "words_to_replace = noun_list\n",
    "\n",
    "# Iterate over the rows of the dataframe\n",
    "for i, row in df.iterrows():\n",
    "    # Split the text into a list of words\n",
    "    words = df['Word'].str.split().tolist()\n",
    "    # Iterate over the list of words\n",
    "    for j, word in enumerate(words):\n",
    "        # Check if the word is in the list of words to replace\n",
    "        if word in words_to_replace:\n",
    "            # Check if there are 7 words after the current word\n",
    "            if j + 7 < len(words):\n",
    "                # Replace the current word with the 7th word after it\n",
    "                words[j] = words[j + 7]\n",
    "    # Join the list of words back into a string\n",
    "    df.at[i,'Word'] = \" \".join(words)\n",
    "\n",
    "print(df)"
   ]
  },
  {
   "cell_type": "code",
   "execution_count": 71,
   "metadata": {},
   "outputs": [
    {
     "data": {
      "text/plain": [
       "list"
      ]
     },
     "execution_count": 71,
     "metadata": {},
     "output_type": "execute_result"
    }
   ],
   "source": [
    "type(words_to_replace)"
   ]
  },
  {
   "cell_type": "code",
   "execution_count": 72,
   "metadata": {},
   "outputs": [],
   "source": [
    "words = df[\"Word\"]"
   ]
  },
  {
   "cell_type": "code",
   "execution_count": 73,
   "metadata": {},
   "outputs": [
    {
     "data": {
      "text/plain": [
       "pandas.core.series.Series"
      ]
     },
     "execution_count": 73,
     "metadata": {},
     "output_type": "execute_result"
    }
   ],
   "source": [
    "type(words)"
   ]
  },
  {
   "cell_type": "code",
   "execution_count": 75,
   "metadata": {},
   "outputs": [],
   "source": [
    "words = df['Word'].str.split()"
   ]
  },
  {
   "cell_type": "code",
   "execution_count": 76,
   "metadata": {},
   "outputs": [
    {
     "data": {
      "text/plain": [
       "pandas.core.series.Series"
      ]
     },
     "execution_count": 76,
     "metadata": {},
     "output_type": "execute_result"
    }
   ],
   "source": [
    "type(words)"
   ]
  },
  {
   "cell_type": "code",
   "execution_count": 77,
   "metadata": {},
   "outputs": [],
   "source": [
    "words = df['Word'].str.split().tolist()"
   ]
  },
  {
   "cell_type": "code",
   "execution_count": 78,
   "metadata": {},
   "outputs": [
    {
     "data": {
      "text/plain": [
       "list"
      ]
     },
     "execution_count": 78,
     "metadata": {},
     "output_type": "execute_result"
    }
   ],
   "source": [
    "type(words)"
   ]
  },
  {
   "cell_type": "code",
   "execution_count": 81,
   "metadata": {},
   "outputs": [
    {
     "ename": "AttributeError",
     "evalue": "'list' object has no attribute 'apply'",
     "output_type": "error",
     "traceback": [
      "\u001b[0;31m---------------------------------------------------------------------------\u001b[0m",
      "\u001b[0;31mAttributeError\u001b[0m                            Traceback (most recent call last)",
      "\u001b[0;32m<ipython-input-81-a9594716aea1>\u001b[0m in \u001b[0;36m<module>\u001b[0;34m\u001b[0m\n\u001b[0;32m----> 1\u001b[0;31m \u001b[0mdf\u001b[0m\u001b[0;34m[\u001b[0m\u001b[0;34m'text'\u001b[0m\u001b[0;34m]\u001b[0m \u001b[0;34m=\u001b[0m \u001b[0mwords\u001b[0m\u001b[0;34m.\u001b[0m\u001b[0mapply\u001b[0m\u001b[0;34m(\u001b[0m\u001b[0;32mlambda\u001b[0m \u001b[0mx\u001b[0m\u001b[0;34m:\u001b[0m \u001b[0;34m' '\u001b[0m\u001b[0;34m.\u001b[0m\u001b[0mjoin\u001b[0m\u001b[0;34m(\u001b[0m\u001b[0mx\u001b[0m\u001b[0;34m)\u001b[0m\u001b[0;34m)\u001b[0m\u001b[0;34m\u001b[0m\u001b[0;34m\u001b[0m\u001b[0m\n\u001b[0m",
      "\u001b[0;31mAttributeError\u001b[0m: 'list' object has no attribute 'apply'"
     ]
    }
   ],
   "source": [
    "df['text'] = words.apply(lambda x: ' '.join(x))"
   ]
  },
  {
   "cell_type": "code",
   "execution_count": null,
   "metadata": {},
   "outputs": [],
   "source": []
  }
 ],
 "metadata": {
  "kernelspec": {
   "display_name": "Python (learn-env)",
   "language": "python",
   "name": "learn-env"
  },
  "language_info": {
   "codemirror_mode": {
    "name": "ipython",
    "version": 3
   },
   "file_extension": ".py",
   "mimetype": "text/x-python",
   "name": "python",
   "nbconvert_exporter": "python",
   "pygments_lexer": "ipython3",
   "version": "3.8.5"
  }
 },
 "nbformat": 4,
 "nbformat_minor": 4
}
